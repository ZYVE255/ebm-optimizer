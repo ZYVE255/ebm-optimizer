{
 "cells": [
  {
   "cell_type": "code",
   "execution_count": 2,
   "metadata": {},
   "outputs": [],
   "source": [
    "#==========Imports==========\n",
    "import numpy as np\n",
    "import matplotlib.pyplot as plt\n",
    "import astropy.constants as const\n",
    "import time\n",
    "from scipy import interpolate\n",
    "import Zach_OPTIMIZER.EBMOptimizer as opt\n",
    "\n",
    "import Bell_EBM as ebm"
   ]
  },
  {
   "cell_type": "code",
   "execution_count": 6,
   "metadata": {},
   "outputs": [],
   "source": [
    "#==========Set Up System==========\n",
    "planet = ebm.Planet(rad=1.900*const.R_jup.value, mass=1.470*const.M_jup.value,\n",
    "                    Porb=1.09142030, a=0.02340*const.au.value, inc=83.37, vWind=5e3, nlat = 8, e=0.3)\n",
    "star = ebm.Star(teff=6300., rad=1.59, mass=1.20)\n",
    "system = ebm.System(star, planet)"
   ]
  },
  {
   "cell_type": "code",
   "execution_count": 11,
   "metadata": {},
   "outputs": [],
   "source": [
    "#==========Set Up System==========\n",
    "planet = ebm.Planet(rad=1.900*const.R_jup.value, mass=1.470*const.M_jup.value,\n",
    "                    Porb=1.09142030, a=0.02340*const.au.value, inc=83.37, vWind=5e3, nlat=8)\n",
    "star = ebm.Star(teff=6300., rad=1.59, mass=1.20)\n",
    "system = ebm.System(star, planet)\n",
    "\n",
    "#==========Baseline Creation==========\n",
    "tUpdates = 500. #Amount of timesteps in baseline\n",
    "tOrbits = 1 #Number of orbits in baseline\n",
    "\n",
    "Teq = system.get_teq()\n",
    "T0 = np.ones_like(system.planet.map.values)*Teq\n",
    "t0 = 0.\n",
    "t1 = t0+system.planet.Porb*tOrbits\n",
    "dt = system.planet.Porb/tUpdates\n",
    "testTimes, testMaps, testttc = system.run_model_tester(T0, t0, t1, dt, verbose=False)\n",
    "testLightcurve = system.lightcurve()"
   ]
  },
  {
   "cell_type": "code",
   "execution_count": 30,
   "metadata": {},
   "outputs": [],
   "source": [
    "times = (t0 + np.arange(int(np.rint((t1-t0)/dt)))*dt)[:,np.newaxis]\n",
    "TAs = system.planet.orbit.true_anomaly(times)[:,:,np.newaxis]\n",
    "maps = T0[np.newaxis,:]"
   ]
  },
  {
   "cell_type": "code",
   "execution_count": 31,
   "metadata": {},
   "outputs": [],
   "source": [
    "Teq = system.get_teq()\n",
    "T0 = np.ones_like(system.planet.map.values)*Teq\n",
    "t0 = 0.\n",
    "t1 = t0+system.planet.Porb*1\n",
    "dt = system.planet.Porb/1000"
   ]
  },
  {
   "cell_type": "code",
   "execution_count": 6,
   "metadata": {},
   "outputs": [
    {
     "name": "stdout",
     "output_type": "stream",
     "text": [
      "185 ms ± 5.4 ms per loop (mean ± std. dev. of 7 runs, 10 loops each)\n"
     ]
    }
   ],
   "source": [
    "%timeit system.run_model(T0, t0, t1, dt, verbose=False)"
   ]
  },
  {
   "cell_type": "code",
   "execution_count": 15,
   "metadata": {},
   "outputs": [
    {
     "name": "stdout",
     "output_type": "stream",
     "text": [
      "176 µs ± 2.89 µs per loop (mean ± std. dev. of 7 runs, 10000 loops each)\n"
     ]
    }
   ],
   "source": [
    "%timeit system.ODE_EQ(times[1], maps[-1], dt, TAs[1])"
   ]
  },
  {
   "cell_type": "code",
   "execution_count": 19,
   "metadata": {},
   "outputs": [
    {
     "name": "stdout",
     "output_type": "stream",
     "text": [
      "134 µs ± 2.69 µs per loop (mean ± std. dev. of 7 runs, 10000 loops each)\n"
     ]
    }
   ],
   "source": [
    "%timeit system.Fin(times[1], TAs[1])"
   ]
  },
  {
   "cell_type": "code",
   "execution_count": 23,
   "metadata": {},
   "outputs": [
    {
     "name": "stdout",
     "output_type": "stream",
     "text": [
      "13 µs ± 172 ns per loop (mean ± std. dev. of 7 runs, 100000 loops each)\n"
     ]
    }
   ],
   "source": [
    "%timeit system.planet.Fout(maps)"
   ]
  },
  {
   "cell_type": "code",
   "execution_count": 26,
   "metadata": {},
   "outputs": [
    {
     "name": "stdout",
     "output_type": "stream",
     "text": [
      "19.6 µs ± 1.05 µs per loop (mean ± std. dev. of 7 runs, 10000 loops each)\n"
     ]
    }
   ],
   "source": [
    "%timeit system.Firr(times[1], TAs[1], True, None, 4.5e-6)"
   ]
  },
  {
   "cell_type": "code",
   "execution_count": 29,
   "metadata": {},
   "outputs": [
    {
     "name": "stdout",
     "output_type": "stream",
     "text": [
      "101 µs ± 327 ns per loop (mean ± std. dev. of 7 runs, 10000 loops each)\n"
     ]
    }
   ],
   "source": [
    "%timeit system.planet.weight(times[1], TAs[1])"
   ]
  },
  {
   "cell_type": "code",
   "execution_count": 34,
   "metadata": {},
   "outputs": [
    {
     "name": "stdout",
     "output_type": "stream",
     "text": [
      "12.5 µs ± 220 ns per loop (mean ± std. dev. of 7 runs, 100000 loops each)\n"
     ]
    }
   ],
   "source": [
    "%timeit system.planet.orbit.get_ssp(times[1], TAs[1])"
   ]
  },
  {
   "cell_type": "code",
   "execution_count": 41,
   "metadata": {},
   "outputs": [],
   "source": [
    "refLon, refLat = system.planet.orbit.get_ssp(times[1], TAs[1])"
   ]
  },
  {
   "cell_type": "code",
   "execution_count": 43,
   "metadata": {},
   "outputs": [
    {
     "name": "stdout",
     "output_type": "stream",
     "text": [
      "42.8 µs ± 537 ns per loop (mean ± std. dev. of 7 runs, 10000 loops each)\n"
     ]
    }
   ],
   "source": [
    "%timeit (np.cos(system.planet.map.latGrid_radians)*np.cos(refLat*np.pi/180.)*np.cos((system.planet.map.lonGrid_radians-refLon*np.pi/180.))+ np.sin(system.planet.map.latGrid_radians)*np.sin(refLat*np.pi/180.))"
   ]
  },
  {
   "cell_type": "code",
   "execution_count": 37,
   "metadata": {},
   "outputs": [
    {
     "name": "stdout",
     "output_type": "stream",
     "text": [
      "265 ns ± 4.56 ns per loop (mean ± std. dev. of 7 runs, 1000000 loops each)\n"
     ]
    }
   ],
   "source": [
    "%timeit system.planet.map.latGrid_radians"
   ]
  },
  {
   "cell_type": "code",
   "execution_count": 38,
   "metadata": {},
   "outputs": [
    {
     "name": "stdout",
     "output_type": "stream",
     "text": [
      "2.2 µs ± 110 ns per loop (mean ± std. dev. of 7 runs, 100000 loops each)\n"
     ]
    }
   ],
   "source": [
    "%timeit np.cos(273672179)"
   ]
  },
  {
   "cell_type": "code",
   "execution_count": 39,
   "metadata": {},
   "outputs": [
    {
     "name": "stdout",
     "output_type": "stream",
     "text": [
      "65.3 ns ± 0.461 ns per loop (mean ± std. dev. of 7 runs, 10000000 loops each)\n"
     ]
    }
   ],
   "source": [
    "%timeit np.pi"
   ]
  },
  {
   "cell_type": "code",
   "execution_count": 45,
   "metadata": {},
   "outputs": [],
   "source": [
    "weight = (np.cos(system.planet.map.latGrid_radians)*np.cos(refLat*np.pi/180.)*np.cos((system.planet.map.lonGrid_radians-refLon*np.pi/180.))+ np.sin(system.planet.map.latGrid_radians)*np.sin(refLat*np.pi/180.))"
   ]
  },
  {
   "cell_type": "code",
   "execution_count": 46,
   "metadata": {},
   "outputs": [
    {
     "name": "stdout",
     "output_type": "stream",
     "text": [
      "26.2 µs ± 582 ns per loop (mean ± std. dev. of 7 runs, 10000 loops each)\n"
     ]
    }
   ],
   "source": [
    "%timeit np.max(np.append(np.zeros_like(weight[np.newaxis,:]), weight[np.newaxis,:], axis=0), axis=0)"
   ]
  },
  {
   "cell_type": "code",
   "execution_count": 47,
   "metadata": {},
   "outputs": [
    {
     "name": "stdout",
     "output_type": "stream",
     "text": [
      "2.01 µs ± 71.4 ns per loop (mean ± std. dev. of 7 runs, 100000 loops each)\n"
     ]
    }
   ],
   "source": [
    "%timeit system.star.Fstar(True, None, 4.5e-6)"
   ]
  },
  {
   "cell_type": "code",
   "execution_count": 9,
   "metadata": {},
   "outputs": [
    {
     "name": "stdout",
     "output_type": "stream",
     "text": [
      "Starting baseline generation...\n",
      "Baseline generation complete; Time to Compute: 17.98s\n",
      "First pass data points assigned\n",
      "Starting first pass...\n",
      "First pass finished : Time to compute: 23.94s\n",
      "Processing first pass data...\n",
      "Second pass data points assigned\n",
      "Starting second pass...\n",
      "Second pass finished : Time to compute: 6.46s\n",
      "Processing second pass data...\n",
      "Temporal: 200.0 Spacial: 18.0\n",
      "Time for compute: 216.08ms : Error: 96.46ppm\n",
      "Expected compute time @ 1,000,000 cycles: 60.02 Hrs\n"
     ]
    },
    {
     "data": {
      "image/png": "[encoded data removed]",
      "text/plain": [
       "<Figure size 432x288 with 1 Axes>"
      ]
     },
     "metadata": {
      "needs_background": "light"
     },
     "output_type": "display_data"
    }
   ],
   "source": [
    "opt.Optimize(_star=star, _planet=planet, _error=100., verbose=True)"
   ]
  },
  {
   "cell_type": "code",
   "execution_count": null,
   "metadata": {},
   "outputs": [],
   "source": []
  }
 ],
 "metadata": {
  "kernelspec": {
   "display_name": "Python 3",
   "language": "python",
   "name": "python3"
  },
  "language_info": {
   "codemirror_mode": {
    "name": "ipython",
    "version": 3
   },
   "file_extension": ".py",
   "mimetype": "text/x-python",
   "name": "python",
   "nbconvert_exporter": "python",
   "pygments_lexer": "ipython3",
   "version": "3.7.1"
  }
 },
 "nbformat": 4,
 "nbformat_minor": 2
}
