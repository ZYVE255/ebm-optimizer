{
 "cells": [
  {
   "cell_type": "code",
   "execution_count": 1,
   "metadata": {},
   "outputs": [],
   "source": [
    "#==========Imports==========\n",
    "import numpy as np\n",
    "import matplotlib.pyplot as plt\n",
    "import astropy.constants as const\n",
    "import time\n",
    "from scipy import interpolate\n",
    "import Zach_OPTIMIZER.EBMOptimizer as opt\n",
    "\n",
    "import Bell_EBM as ebm"
   ]
  },
  {
   "cell_type": "code",
   "execution_count": 2,
   "metadata": {},
   "outputs": [],
   "source": [
    "#==========Set Up System==========\n",
    "planet = ebm.Planet(rad=1.500*const.R_jup.value, mass=1.170*const.M_jup.value,\n",
    "                    Porb=1.09142030, a=0.02340*2*const.au.value, inc=83.37, vWind=5e3, nlat = 8)\n",
    "star = ebm.Star(teff=6300., rad=1.59, mass=1.20)\n",
    "system = ebm.System(star, planet)"
   ]
  },
  {
   "cell_type": "code",
   "execution_count": 45,
   "metadata": {},
   "outputs": [],
   "source": [
    "def CreateBaseline(star, planet, temporal=5000, spacial=32,orbit=2):\n",
    "    _star = star\n",
    "    _planet = planet\n",
    "    _system = ebm.System(_star, _planet)\n",
    "    \n",
    "    Teq = _system.get_teq()\n",
    "    T0 = np.ones_like(_system.planet.map.values)*Teq\n",
    "    t0 = 0.\n",
    "    t1 = t0+_system.planet.Porb*orbit\n",
    "    dt = _system.planet.Porb/temporal\n",
    "    baselineTimes, baselineMaps = _system.run_model(T0, t0, t1, dt, verbose=False, intermediates=False)\n",
    "    if (planet.orbit.e != 0.):\n",
    "        T0 = baselineMaps[-1]\n",
    "        t0 = baselineTimes[-1]\n",
    "        t1 = t0+system.planet.Porb\n",
    "        dt = (system.planet.Porb)/1000.\n",
    "        baselineTimes, baselineMaps = system.run_model(T0, t0, t1, dt, verbose=False, intermediates=True)\n",
    "        \n",
    "        baselineLightcurve = system.lightcurve(baselineTimes, baselineMaps, bolo=False, wav=4.5e-6)\n",
    "        \n",
    "        phaseBaseline = system.get_phase(baselineTimes).flatten()\n",
    "        order = np.argsort(phaseBaseline)\n",
    "        baselineLightcurve = baselineLightcurve[order]\n",
    "        phaseBaseline = phaseBaseline[order]\n",
    "        \n",
    "    baselineLightcurve = system.lightcurve(bolo=False, wav=4.5e-6)\n",
    "    \n",
    "    return baselineTimes, baselineMaps, baselineLightcurve"
   ]
  },
  {
   "cell_type": "code",
   "execution_count": 46,
   "metadata": {},
   "outputs": [],
   "source": [
    "blt, blm, blc = CreateBaseline(star,planet)"
   ]
  },
  {
   "cell_type": "code",
   "execution_count": 47,
   "metadata": {},
   "outputs": [
    {
     "data": {
      "text/plain": [
       "[<matplotlib.lines.Line2D at 0x182541dc88>]"
      ]
     },
     "execution_count": 47,
     "metadata": {},
     "output_type": "execute_result"
    },
    {
     "data": {
      "image/png": "[encoded data removed]",
      "text/plain": [
       "<Figure size 432x288 with 1 Axes>"
      ]
     },
     "metadata": {
      "needs_background": "light"
     },
     "output_type": "display_data"
    }
   ],
   "source": [
    "plt.plot(blc)"
   ]
  },
  {
   "cell_type": "code",
   "execution_count": 60,
   "metadata": {},
   "outputs": [],
   "source": [
    "def RunTests(star, planet, points, base):\n",
    "    data = np.zeros(shape=(points.shape[0],4))\n",
    "    _star = star\n",
    "    _planet = planet\n",
    "    _system = ebm.System(_star,_planet)\n",
    "    for i in range(0, points.shape[0]):\n",
    "        \n",
    "        _star = star\n",
    "        _planet = planet        \n",
    "        _planet.map = ebm.Map.Map(nlat=points[i,1])\n",
    "        _system = ebm.System(_star, _planet)\n",
    "        \n",
    "        data[i,0] = points[i,0]\n",
    "        data[i,1] = points[i,1]\n",
    "        \n",
    "        tInt = time.time()\n",
    "        \n",
    "        Teq = _system.get_teq()\n",
    "        T0 = np.ones_like(_system.planet.map.values)*Teq\n",
    "        t0 = 0.\n",
    "        t1 = t0+_system.planet.Porb\n",
    "        dt = _system.planet.Porb/points[i,0]\n",
    "        testTimes, testMaps = system.run_model(T0, t0, t1, dt, verbose=False)\n",
    "        if (_planet.orbit.e != 0):\n",
    "            T0 = testMaps[-1]\n",
    "            t0 = testTimes[-1]\n",
    "            t1 = t0+_system.planet.Porb\n",
    "            dt = system.planet.Porb/points[i,0]\n",
    "            testTimes, testMaps = system.run_model(T0, t0, t1, dt, verbose=False, intermediates=True)\n",
    "            testLightcurve = system.lightcurve(testTimes, testMaps, bolo=False, wav=4.5e-6)\n",
    "            \n",
    "            phaseTest = _system.get_phase(testTimes).flatten()\n",
    "            order = np.argsort(phaseTest)\n",
    "            testLightcurve = testLightcurve[order]\n",
    "            phaseTest = phaseTest[order]\n",
    "            testLightcurve = np.interp(base, phaseTest, testLightcurve)\n",
    "        else:\n",
    "            testLightcurve = system.lightcurve(bolo=False, wav=4.5e-6)\n",
    "\n",
    "        tFin = time.time()\n",
    "        \n",
    "        data[i,3] = (1e6)*(np.amax(np.absolute(base - testLightcurve)))\n",
    "        data[i,2] = (tFin - tInt)*(1e3)\n",
    "\n",
    "    return testLightcurve, data\n"
   ]
  },
  {
   "cell_type": "code",
   "execution_count": 7,
   "metadata": {},
   "outputs": [],
   "source": [
    "p = np.zeros(shape=((10),2))"
   ]
  },
  {
   "cell_type": "code",
   "execution_count": 54,
   "metadata": {},
   "outputs": [],
   "source": [
    "p[:,0]=100\n",
    "p[:,1]=6\n",
    "p[9,0] = 1000\n",
    "p[9,1] = 16"
   ]
  },
  {
   "cell_type": "code",
   "execution_count": 55,
   "metadata": {},
   "outputs": [
    {
     "data": {
      "text/plain": [
       "array([[ 100.,    6.],\n",
       "       [ 100.,    6.],\n",
       "       [ 100.,    6.],\n",
       "       [ 100.,    6.],\n",
       "       [ 100.,    6.],\n",
       "       [ 100.,    6.],\n",
       "       [ 100.,    6.],\n",
       "       [ 100.,    6.],\n",
       "       [ 100.,    6.],\n",
       "       [1000.,   16.]])"
      ]
     },
     "execution_count": 55,
     "metadata": {},
     "output_type": "execute_result"
    }
   ],
   "source": [
    "p"
   ]
  },
  {
   "cell_type": "code",
   "execution_count": 56,
   "metadata": {},
   "outputs": [],
   "source": [
    "lc, data = RunTests(star,planet,p,blc)"
   ]
  },
  {
   "cell_type": "code",
   "execution_count": 57,
   "metadata": {},
   "outputs": [
    {
     "data": {
      "text/plain": [
       "[<matplotlib.lines.Line2D at 0x1825e1e6a0>]"
      ]
     },
     "execution_count": 57,
     "metadata": {},
     "output_type": "execute_result"
    },
    {
     "data": {
      "image/png": "[encoded data removed]",
      "text/plain": [
       "<Figure size 432x288 with 1 Axes>"
      ]
     },
     "metadata": {
      "needs_background": "light"
     },
     "output_type": "display_data"
    }
   ],
   "source": [
    "plt.plot(lc, c='g')\n",
    "plt.plot(blc, c='b')"
   ]
  },
  {
   "cell_type": "code",
   "execution_count": 58,
   "metadata": {},
   "outputs": [
    {
     "data": {
      "text/plain": [
       "array([[  0.        ,   0.        ,  34.56783295,  42.6892182 ],\n",
       "       [  0.        ,   0.        ,  29.05511856,  42.6892182 ],\n",
       "       [  0.        ,   0.        ,  24.0020752 ,  42.6892182 ],\n",
       "       [  0.        ,   0.        ,  23.55313301,  42.6892182 ],\n",
       "       [  0.        ,   0.        ,  33.12206268,  42.6892182 ],\n",
       "       [  0.        ,   0.        ,  35.02988815,  42.6892182 ],\n",
       "       [  0.        ,   0.        ,  23.74386787,  42.6892182 ],\n",
       "       [  0.        ,   0.        ,  24.62625504,  42.6892182 ],\n",
       "       [  0.        ,   0.        ,  24.06191826,  42.6892182 ],\n",
       "       [  0.        ,   0.        , 291.53609276,  52.57132783]])"
      ]
     },
     "execution_count": 58,
     "metadata": {},
     "output_type": "execute_result"
    }
   ],
   "source": [
    "data"
   ]
  },
  {
   "cell_type": "code",
   "execution_count": 43,
   "metadata": {},
   "outputs": [
    {
     "name": "stdout",
     "output_type": "stream",
     "text": [
      "Starting baseline generation...\n",
      "Baseline generation complete; Time to Compute: 6.48s\n",
      "First pass data points assigned\n",
      "Starting first pass...\n",
      "First pass finished : Time to compute: 3.93s\n",
      "Processing first pass data...\n",
      "Second pass data points assigned\n",
      "Starting second pass...\n",
      "Second pass finished : Time to compute: 1.2s\n",
      "Processing second pass data...\n",
      "Temporal: 150.0 Spacial: 4.0\n",
      "Time for compute: 23.92ms : Error: 68.4ppm\n",
      "Expected compute time @ 1,000,000 cycles: 6.64 Hrs\n"
     ]
    },
    {
     "data": {
      "image/png": "[encoded data removed]",
      "text/plain": [
       "<Figure size 432x288 with 1 Axes>"
      ]
     },
     "metadata": {
      "needs_background": "light"
     },
     "output_type": "display_data"
    }
   ],
   "source": [
    "opt.Optimize(planet, star, 100, verbose=True)"
   ]
  },
  {
   "cell_type": "code",
   "execution_count": 59,
   "metadata": {},
   "outputs": [
    {
     "data": {
      "text/plain": [
       "[<matplotlib.lines.Line2D at 0x1825e4e5f8>]"
      ]
     },
     "execution_count": 59,
     "metadata": {},
     "output_type": "execute_result"
    },
    {
     "data": {
      "image/png": "[encoded data removed]",
      "text/plain": [
       "<Figure size 432x288 with 1 Axes>"
      ]
     },
     "metadata": {
      "needs_background": "light"
     },
     "output_type": "display_data"
    }
   ],
   "source": [
    "plt.plot((1e6)*(lc-blc))"
   ]
  },
  {
   "cell_type": "code",
   "execution_count": 63,
   "metadata": {},
   "outputs": [],
   "source": [
    "def Optimize(star, planet, error, verbose=False):\n",
    "    _planet = planet\n",
    "    _star = star\n",
    "    aError = error\n",
    "\n",
    "    #==========High Res Baseline Creation==========    \n",
    "    if (verbose == True): \n",
    "        print(\"Starting baseline generation...\")\n",
    "    \n",
    "    tInt = time.time()\n",
    "    blt, blm, blc = CreateBaseline(_star, _planet)\n",
    "    tFin = time.time()\n",
    "    \n",
    "    if (verbose == True): \n",
    "        print(\"Baseline generation complete; Time to Compute: \" + str(round(tFin-tInt,2)) + \"s\")\n",
    "\n",
    "    #===========Initial data creationg================\n",
    "    space_points = 5\n",
    "    temp_points = 5\n",
    "    data = np.zeros(shape=((space_points*temp_points),4))\n",
    "    for i in range (0, temp_points):\n",
    "        for j in range (0, space_points):\n",
    "            data[(i*space_points)+j,0]= ((i+1)*250)+0\n",
    "            data[(i*space_points)+j,1] = ((j+1)*4)+0\n",
    "    if (verbose == True): \n",
    "        print(\"First pass data points assigned\")\n",
    "\n",
    "    #==================First pass testing Area======================\n",
    "    if (verbose == True): \n",
    "        print(\"Starting first pass...\")\n",
    "        \n",
    "    tInt = time.time()\n",
    "    lc, data = RunTests(_star, _planet, data, blc)\n",
    "    tFin = time.time()\n",
    "    \n",
    "    if (verbose == True): \n",
    "        print(\"First pass finished : Time to compute: \" + str(round(tFin-tInt,2)) + \"s\")\n",
    "\n",
    "    #=================First pass best point===================\n",
    "    #print(data) #For debugging purposes \n",
    "    if (verbose == True):\n",
    "        print(\"Processing first pass data...\")\n",
    "    iBest = None\n",
    "    for i in range(0,space_points*temp_points):\n",
    "        if (data[i,3]<=(aError*1.05)):\n",
    "            if (iBest == None):\n",
    "                iBest = i\n",
    "            if(data[i,2] < data[iBest,2]):\n",
    "                iBest = i\n",
    "                \n",
    "    #===========Second pass data creation================\n",
    "    space_points = 5\n",
    "    temp_points = 5\n",
    "    dataDouble = np.zeros(shape=((space_points*temp_points),2))\n",
    "    for i in range (0, temp_points):\n",
    "        for j in range (0, space_points):\n",
    "            dataDouble[(i*space_points)+j,0] = ((i)*50)+(data[iBest,0]-100)\n",
    "            if (dataDouble[(i*space_points)+j,0]<100):\n",
    "                dataDouble[(i*space_points)+j,0] = 100\n",
    "            dataDouble[(i*space_points)+j,1] = ((j)*2)+(data[iBest,1]-4)\n",
    "            if (dataDouble[(i*space_points)+j,1]<2):\n",
    "                dataDouble[(i*space_points)+j,1] = 2\n",
    "    if (verbose == True): \n",
    "        print(\"Second pass data points assigned\")\n",
    "    \n",
    "    #==================Second pass testing Area======================\n",
    "    if (verbose == True): \n",
    "        print(\"Starting second pass...\")\n",
    "        \n",
    "    tInt = time.time()\n",
    "    lc, dataDouble = RunTests(_star, _planet, dataDouble, blc)\n",
    "    tFin = time.time()\n",
    "    if (verbose == True): \n",
    "        print(\"Second pass finished : Time to compute: \" + str(round(tFin-tInt,2)) + \"s\")\n",
    "    \n",
    "    #=================Finding best second pass point===================\n",
    "    #print(data) #For debugging purposes \n",
    "    if (verbose == True):\n",
    "        print(\"Processing second pass data...\")\n",
    "    iBest = None\n",
    "    for i in range(0,space_points*temp_points):\n",
    "        if (dataDouble[i,3]<=aError):\n",
    "            if (iBest == None):\n",
    "                iBest = i\n",
    "            if(dataDouble[i,2] < dataDouble[iBest,2]):\n",
    "                iBest = i\n",
    "\n",
    "    if (iBest == None):\n",
    "        print(\"No points match requested error\")\n",
    "    else:\n",
    "        print(\"Temporal: \" + str(dataDouble[iBest,0]) + \" Spacial: \" + str(dataDouble[iBest,1]))\n",
    "        print(\"Time for compute: \" + str(round(dataDouble[iBest, 2],2)) +\"ms : Error: \" + str(round(dataDouble[iBest, 3],2)) + \"ppm\")\n",
    "        print(\"Expected compute time @ 1,000,000 cycles: \" + str((round((dataDouble[iBest, 2]*1e3/60)/60,2))) + \" Hrs\")\n",
    "       \n",
    "    return dataDouble[iBest,0], dataDouble[iBest,1]\n",
    "#     #print(data) #For debugging\n",
    "#     #print(dataDouble) #For debugging\n",
    "#     #=========Create Maps==================\n",
    "#     if (verbose == True):\n",
    "#         planet.map = ebm.Map.Map(nlat=dataDouble[iBest,1])\n",
    "#         system = ebm.System(star, planet)\n",
    "\n",
    "#         TotalTimeToCompute = 0.\n",
    "\n",
    "#         Teq = system.get_teq()\n",
    "#         T0 = np.ones_like(system.planet.map.values)*Teq\n",
    "#         t0 = 0.\n",
    "#         t1 = t0+system.planet.Porb*1\n",
    "#         dt = system.planet.Porb/dataDouble[iBest,0]\n",
    "#         times, maps, ttc = system.run_model_tester(T0, t0, t1, dt, verbose=False)\n",
    "#         TotalTimeToCompute += ttc\n",
    "\n",
    "#         if (planet.orbit.e != 0):\n",
    "#             T0 = maps[-1]\n",
    "#             t0 = times[-1]\n",
    "#             t1 = t0+system.planet.Porb\n",
    "#             dt = system.planet.Porb/dataDouble[iBest,0]\n",
    "#             times, maps, ttc = system.run_model_tester(T0, t0, t1, dt, verbose=False, intermediates=True)\n",
    "#             TotalTimeToCompute += ttc\n",
    "\n",
    "#         testLightcurve = system.lightcurve(times, maps, bolo=False, wav=4.5e-6)\n",
    "\n",
    "#         phaseTest = system.get_phase(times).flatten()\n",
    "#         order = np.argsort(phaseTest)\n",
    "#         testLightcurve = testLightcurve[order]\n",
    "#         phaseTest = phaseTest[order]\n",
    "#         testLightcurve = np.interp(phaseBaseline, phaseTest, testLightcurve)\n",
    "        \n",
    "\n",
    "#         plt.plot((baselineLightcurve)*1e6, lw=2, c='g')\n",
    "#         plt.plot((testLightcurve)*1e6, lw=1, c='r')\n",
    "#         plt.title(\"Lightcurves of baseline (green) compared to recommended values (red)\")\n",
    "#         plt.show()\n",
    "\n"
   ]
  },
  {
   "cell_type": "code",
   "execution_count": 67,
   "metadata": {},
   "outputs": [
    {
     "name": "stdout",
     "output_type": "stream",
     "text": [
      "Temporal: 150.0 Spacial: 12.0\n",
      "Time for compute: 61.32ms : Error: 19.31ppm\n",
      "Expected compute time @ 1,000,000 cycles: 17.03 Hrs\n"
     ]
    },
    {
     "ename": "TypeError",
     "evalue": "cannot unpack non-iterable NoneType object",
     "output_type": "error",
     "traceback": [
      "\u001b[0;31m---------------------------------------------------------------------------\u001b[0m",
      "\u001b[0;31mTypeError\u001b[0m                                 Traceback (most recent call last)",
      "\u001b[0;32m<ipython-input-67-b7ce21b26231>\u001b[0m in \u001b[0;36m<module>\u001b[0;34m\u001b[0m\n\u001b[0;32m----> 1\u001b[0;31m \u001b[0mtemp\u001b[0m\u001b[0;34m,\u001b[0m \u001b[0mspace\u001b[0m \u001b[0;34m=\u001b[0m \u001b[0mOptimize\u001b[0m\u001b[0;34m(\u001b[0m\u001b[0mstar\u001b[0m\u001b[0;34m,\u001b[0m \u001b[0mplanet\u001b[0m\u001b[0;34m,\u001b[0m \u001b[0;36m25\u001b[0m\u001b[0;34m,\u001b[0m \u001b[0mverbose\u001b[0m\u001b[0;34m=\u001b[0m\u001b[0;32mFalse\u001b[0m\u001b[0;34m)\u001b[0m\u001b[0;34m\u001b[0m\u001b[0;34m\u001b[0m\u001b[0m\n\u001b[0m",
      "\u001b[0;31mTypeError\u001b[0m: cannot unpack non-iterable NoneType object"
     ]
    }
   ],
   "source": [
    "temp, space = Optimize(star, planet, 25, verbose=False)"
   ]
  },
  {
   "cell_type": "code",
   "execution_count": null,
   "metadata": {},
   "outputs": [],
   "source": []
  }
 ],
 "metadata": {
  "kernelspec": {
   "display_name": "Python 3",
   "language": "python",
   "name": "python3"
  },
  "language_info": {
   "codemirror_mode": {
    "name": "ipython",
    "version": 3
   },
   "file_extension": ".py",
   "mimetype": "text/x-python",
   "name": "python",
   "nbconvert_exporter": "python",
   "pygments_lexer": "ipython3",
   "version": "3.7.1"
  }
 },
 "nbformat": 4,
 "nbformat_minor": 2
}
