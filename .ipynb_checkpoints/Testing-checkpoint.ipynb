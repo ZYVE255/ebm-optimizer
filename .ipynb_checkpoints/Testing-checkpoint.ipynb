{
 "cells": [
  {
   "cell_type": "code",
   "execution_count": 1,
   "metadata": {},
   "outputs": [],
   "source": [
    "#==========Imports==========\n",
    "import numpy as np\n",
    "import matplotlib.pyplot as plt\n",
    "import astropy.constants as const\n",
    "import time\n",
    "from scipy import interpolate\n",
    "import Zach_OPTIMIZER.EBMOptimizer as opt\n",
    "\n",
    "import Bell_EBM as ebm"
   ]
  },
  {
   "cell_type": "code",
   "execution_count": 63,
   "metadata": {},
   "outputs": [],
   "source": [
    "#==========Set Up System==========\n",
    "planet = ebm.Planet(rad=1.900*const.R_jup.value, mass=1.470*const.M_jup.value,\n",
    "                    Porb=1.09142030, a=0.02340*const.au.value, inc=83.37, vWind=5e3, nlat = 8)\n",
    "star = ebm.Star(teff=6300., rad=1.59, mass=1.20)\n",
    "system = ebm.System(star, planet)"
   ]
  },
  {
   "cell_type": "code",
   "execution_count": 105,
   "metadata": {},
   "outputs": [],
   "source": [
    "def CreateBaseline(star, planet, temporal=5000, spacial=32,orbit=2):\n",
    "    _star = star\n",
    "    _planet = planet\n",
    "    _system = ebm.System(_star, _planet)\n",
    "    \n",
    "    Teq = _system.get_teq()\n",
    "    T0 = np.ones_like(_system.planet.map.values)*Teq\n",
    "    t0 = 0.\n",
    "    t1 = t0+_system.planet.Porb*orbit\n",
    "    dt = _system.planet.Porb/temporal\n",
    "    baselineTimes, baselineMaps = _system.run_model(T0, t0, t1, dt, verbose=False, intermediates=False)\n",
    "    if (planet.orbit.e != 0.):\n",
    "        T0 = baselineMaps[-1]\n",
    "        t0 = baselineTimes[-1]\n",
    "        t1 = t0+system.planet.Porb\n",
    "        dt = (system.planet.Porb)/1000.\n",
    "        baselineTimes, baselineMaps = system.run_model(T0, t0, t1, dt, verbose=False, intermediates=True)\n",
    "    baselineLightcurve = system.lightcurve(bolo=False, wav=4.5e-6)\n",
    "    \n",
    "    return baselineTimes, baselineMaps, baselineLightcurve\n",
    "    # phaseBaseline = system.get_phase(baselineTimes).flatten()\n",
    "    # order = np.argsort(phaseBaseline)\n",
    "    # baselineLightcurve = baselineLightcurve[order]\n",
    "    # phaseBaseline = phaseBaseline[order]"
   ]
  },
  {
   "cell_type": "code",
   "execution_count": 106,
   "metadata": {},
   "outputs": [],
   "source": [
    "blt, blm, blc = CreateBaseline(star,planet)"
   ]
  },
  {
   "cell_type": "code",
   "execution_count": 104,
   "metadata": {},
   "outputs": [
    {
     "data": {
      "text/plain": [
       "[<matplotlib.lines.Line2D at 0x1821a76e10>]"
      ]
     },
     "execution_count": 104,
     "metadata": {},
     "output_type": "execute_result"
    },
    {
     "data": {
      "image/png": "[encoded data removed]",
      "text/plain": [
       "<Figure size 432x288 with 1 Axes>"
      ]
     },
     "metadata": {
      "needs_background": "light"
     },
     "output_type": "display_data"
    }
   ],
   "source": [
    "plt.plot(blc)"
   ]
  },
  {
   "cell_type": "code",
   "execution_count": 89,
   "metadata": {},
   "outputs": [],
   "source": [
    "def RunTests(star, planet, points, base):\n",
    "#     phaseBaseline = system.get_phase(baselineTimes).flatten()\n",
    "#     order = np.argsort(phaseBaseline)\n",
    "#     baselineLightcurve = baselineLightcurve[order]\n",
    "#     phaseBaseline = phaseBaseline[order]\n",
    "    data = np.zeros(shape=(points.shape[0],4))\n",
    "    _star = star\n",
    "    _planet = planet\n",
    "    _system = ebm.System(_star,_planet)\n",
    "    for i in range(0, points.shape[0]):\n",
    "        \n",
    "        _star = star\n",
    "        _planet = planet        \n",
    "        _planet.map = ebm.Map.Map(nlat=points[i,1])\n",
    "        _system = ebm.System(_star, _planet)\n",
    "\n",
    "        #TotalTimeToCompute = 0.\n",
    "        tInt = time.time()\n",
    "        \n",
    "        Teq = _system.get_teq()\n",
    "        T0 = np.ones_like(_system.planet.map.values)*Teq\n",
    "        t0 = 0.\n",
    "        t1 = t0+_system.planet.Porb\n",
    "        dt = _system.planet.Porb/points[i,0]\n",
    "        testTimes, testMaps = system.run_model(T0, t0, t1, dt, verbose=False)\n",
    "        #TotalTimeToCompute += ttc\n",
    "        if (_planet.orbit.e != 0):\n",
    "            T0 = testMaps[-1]\n",
    "            t0 = testTimes[-1]\n",
    "            t1 = t0+_system.planet.Porb\n",
    "            dt = system.planet.Porb/points[i,0]\n",
    "            testTimes, testMaps = system.run_model(T0, t0, t1, dt, verbose=False, intermediates=True)\n",
    "            #TotalTimeToCompute += ttc\n",
    "            testLightcurve = system.lightcurve(testTimes, testMaps, bolo=False, wav=4.5e-6)\n",
    "            \n",
    "            phaseTest = _system.get_phase(testTimes).flatten()\n",
    "            order = np.argsort(phaseTest)\n",
    "            testLightcurve = testLightcurve[order]\n",
    "            phaseTest = phaseTest[order]\n",
    "            testLightcurve = np.interp(base, phaseTest, testLightcurve)\n",
    "        else:\n",
    "            testLightcurve = system.lightcurve(bolo=False, wav=4.5e-6)\n",
    "\n",
    "        tFin = time.time()\n",
    "        \n",
    "        data[i,3] = (1e6)*(np.amax(np.absolute(base - testLightcurve)))\n",
    "        data[i,2] = (tFin - tInt)*(1e3)\n",
    "\n",
    "        #data[i,2] = (1e6)*(np.amax(np.absolute(baselineLightcurve - testLightcurve)))\n",
    "        #data[i,4] = TotalTimeToCompute*(1e3)\n",
    "    #tFin = time.time()\n",
    "#     if (verbose == True): \n",
    "#         print(\"First pass finished : Time to compute: \" + str(round(tFin-tInt,2)) + \"s\")\n",
    "    return testLightcurve, data\n"
   ]
  },
  {
   "cell_type": "code",
   "execution_count": 20,
   "metadata": {},
   "outputs": [],
   "source": [
    "p = np.zeros(shape=((10),2))"
   ]
  },
  {
   "cell_type": "code",
   "execution_count": 97,
   "metadata": {},
   "outputs": [],
   "source": [
    "p[:,0]=100\n",
    "p[:,1]=6\n",
    "p[9,0] = 500\n",
    "p[9,1] = 16"
   ]
  },
  {
   "cell_type": "code",
   "execution_count": 98,
   "metadata": {},
   "outputs": [
    {
     "data": {
      "text/plain": [
       "array([[100.,   6.],\n",
       "       [100.,   6.],\n",
       "       [100.,   6.],\n",
       "       [100.,   6.],\n",
       "       [100.,   6.],\n",
       "       [100.,   6.],\n",
       "       [100.,   6.],\n",
       "       [100.,   6.],\n",
       "       [100.,   6.],\n",
       "       [500.,  16.]])"
      ]
     },
     "execution_count": 98,
     "metadata": {},
     "output_type": "execute_result"
    }
   ],
   "source": [
    "p"
   ]
  },
  {
   "cell_type": "code",
   "execution_count": 99,
   "metadata": {},
   "outputs": [],
   "source": [
    "lc, data = RunTests(star,planet,p,blc)"
   ]
  },
  {
   "cell_type": "code",
   "execution_count": 100,
   "metadata": {},
   "outputs": [
    {
     "data": {
      "text/plain": [
       "[<matplotlib.lines.Line2D at 0x1821985978>]"
      ]
     },
     "execution_count": 100,
     "metadata": {},
     "output_type": "execute_result"
    },
    {
     "data": {
      "image/png": "[encoded data removed]",
      "text/plain": [
       "<Figure size 432x288 with 1 Axes>"
      ]
     },
     "metadata": {
      "needs_background": "light"
     },
     "output_type": "display_data"
    }
   ],
   "source": [
    "plt.plot(lc)\n",
    "plt.plot(blc)"
   ]
  },
  {
   "cell_type": "code",
   "execution_count": 101,
   "metadata": {},
   "outputs": [
    {
     "data": {
      "text/plain": [
       "array([[  0.        ,   0.        ,  41.04804993, 127.83013805],\n",
       "       [  0.        ,   0.        ,  28.51510048, 127.83013805],\n",
       "       [  0.        ,   0.        ,  23.44584465, 127.83013805],\n",
       "       [  0.        ,   0.        ,  23.82516861, 127.83013805],\n",
       "       [  0.        ,   0.        ,  23.33903313, 127.83013805],\n",
       "       [  0.        ,   0.        ,  23.48995209, 127.83013805],\n",
       "       [  0.        ,   0.        ,  23.50282669, 127.83013805],\n",
       "       [  0.        ,   0.        ,  23.56600761, 127.83013805],\n",
       "       [  0.        ,   0.        ,  23.42295647, 127.83013805],\n",
       "       [  0.        ,   0.        , 178.30514908, 131.78082668]])"
      ]
     },
     "execution_count": 101,
     "metadata": {},
     "output_type": "execute_result"
    }
   ],
   "source": [
    "data"
   ]
  },
  {
   "cell_type": "code",
   "execution_count": null,
   "metadata": {},
   "outputs": [],
   "source": []
  }
 ],
 "metadata": {
  "kernelspec": {
   "display_name": "Python 3",
   "language": "python",
   "name": "python3"
  },
  "language_info": {
   "codemirror_mode": {
    "name": "ipython",
    "version": 3
   },
   "file_extension": ".py",
   "mimetype": "text/x-python",
   "name": "python",
   "nbconvert_exporter": "python",
   "pygments_lexer": "ipython3",
   "version": "3.7.1"
  }
 },
 "nbformat": 4,
 "nbformat_minor": 2
}
