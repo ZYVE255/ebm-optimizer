{
 "cells": [
  {
   "cell_type": "markdown",
   "metadata": {},
   "source": [
    "<h1><center>Using Zach_OPTIMIZER to Find Optimal Resolutions</center></h1>"
   ]
  },
  {
   "cell_type": "code",
   "execution_count": 1,
   "metadata": {},
   "outputs": [],
   "source": [
    "#==========Imports==========\n",
    "import numpy as np\n",
    "import matplotlib.pyplot as plt\n",
    "import astropy.constants as const\n",
    "from scipy import interpolate\n",
    "import Zach_OPTIMIZER.EBMFunctions as opt\n",
    "\n",
    "import Bell_EBM as ebm"
   ]
  },
  {
   "cell_type": "code",
   "execution_count": 2,
   "metadata": {},
   "outputs": [],
   "source": [
    "#==========Set Up System==========\n",
    "planet = ebm.Planet(rad=1.900*const.R_jup.value, mass=1.470*const.M_jup.value,\n",
    "                    Porb=1.09142030, a=0.02340*const.au.value, inc=83.37, vWind=5e3, e=0.2)\n",
    "star = ebm.Star(teff=6300., rad=1.59, mass=1.20)\n",
    "system = ebm.System(star, planet)"
   ]
  },
  {
   "cell_type": "markdown",
   "metadata": {},
   "source": [
    "### Use Optmize function to find optimal parameters\n",
    "##### Pass in the star, planet, the amount of acceptable error in ppm, and turn verbose on (Prints out some detail as it runs). Function returns the optimized temporal and spatial resolutions"
   ]
  },
  {
   "cell_type": "code",
   "execution_count": 3,
   "metadata": {
    "scrolled": true
   },
   "outputs": [
    {
     "name": "stdout",
     "output_type": "stream",
     "text": [
      "Starting baseline generation...\n",
      "Baseline generation complete; Time to Compute: 9.59s\n",
      "First pass data points assigned\n",
      "Starting first pass...\n",
      "First pass finished : Time to compute: 24.68s\n",
      "Processing first pass data...\n",
      "Second pass data points assigned\n",
      "Starting second pass...\n",
      "Second pass finished : Time to compute: 6.58s\n",
      "Processing second pass data...\n",
      "Temporal: 150.0 Spacial: 14.0\n",
      "Time for compute: 93.54ms : Error: 98.23ppm\n",
      "Expected compute time @ 1,000,000 cycles: 25.98 Hrs\n"
     ]
    }
   ],
   "source": [
    "temp, space = opt.Optimize(star,planet,100,verbose=True)"
   ]
  },
  {
   "cell_type": "code",
   "execution_count": 4,
   "metadata": {},
   "outputs": [
    {
     "name": "stdout",
     "output_type": "stream",
     "text": [
      "This is the optimized temporal resolution: 150.0\n",
      "This is the optimized spatial resolution: 14.0\n"
     ]
    }
   ],
   "source": [
    "print(\"This is the optimized temporal resolution: \" + str(temp))\n",
    "print(\"This is the optimized spatial resolution: \" + str(space))"
   ]
  },
  {
   "cell_type": "code",
   "execution_count": null,
   "metadata": {},
   "outputs": [],
   "source": []
  }
 ],
 "metadata": {
  "kernelspec": {
   "display_name": "Python 3",
   "language": "python",
   "name": "python3"
  },
  "language_info": {
   "codemirror_mode": {
    "name": "ipython",
    "version": 3
   },
   "file_extension": ".py",
   "mimetype": "text/x-python",
   "name": "python",
   "nbconvert_exporter": "python",
   "pygments_lexer": "ipython3",
   "version": "3.7.1"
  }
 },
 "nbformat": 4,
 "nbformat_minor": 2
}
