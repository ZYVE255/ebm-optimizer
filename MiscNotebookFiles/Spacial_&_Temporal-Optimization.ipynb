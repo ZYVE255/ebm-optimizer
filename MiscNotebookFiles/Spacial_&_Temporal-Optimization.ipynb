{
 "cells": [
  {
   "cell_type": "code",
   "execution_count": 1,
   "metadata": {},
   "outputs": [],
   "source": [
    "#==========Imports==========\n",
    "import numpy as np\n",
    "import matplotlib.pyplot as plt\n",
    "import astropy.constants as const\n",
    "import time\n",
    "from scipy.optimize import curve_fit\n",
    "\n",
    "import Bell_EBM as ebm"
   ]
  },
  {
   "cell_type": "code",
   "execution_count": 2,
   "metadata": {},
   "outputs": [],
   "source": [
    "#==========Set Up System==========\n",
    "in_rad = 1.900 #Times that or Jupiter\n",
    "in_mass = 1.470 #Times that of Jupiter\n",
    "in_orb = 1.09142030 #Orbital period in days\n",
    "in_a = 0.02340*0.5 #Semi Major Axis in AU\n",
    "in_inc = 83. #Planet's inclination\n",
    "in_e = 0.6\n",
    "\n",
    "s_in_teff = 6300.\n",
    "s_in_rad = 1.59\n",
    "\n",
    "#Allowed error ppm\n",
    "aError = 100\n",
    "resultsArray = np.zeros(shape=(2,4,4))"
   ]
  },
  {
   "cell_type": "code",
   "execution_count": 3,
   "metadata": {},
   "outputs": [],
   "source": [
    "#==========High Temporal Res (Baseline) Creation==========\n",
    "baseUpdates = 10000. #Amount of timesteps in baseline\n",
    "baseOrbits = 5 #Amount of orbits in baseline\n",
    "\n",
    "planet = ebm.Planet(rad=in_rad*const.R_jup.value, mass=in_mass*const.M_jup.value,\n",
    "                    Porb=in_orb, a=in_a*const.au.value, inc=in_inc, vWind=5e3, e=in_e,nlat=8)\n",
    "star = ebm.Star(teff=s_in_teff, rad=s_in_rad)\n",
    "system = ebm.System(star, planet)\n",
    "\n",
    "Teq = system.get_teq()\n",
    "T0 = np.ones_like(system.planet.map.values)*Teq\n",
    "t0 = 0.\n",
    "t1 = t0+system.planet.Porb*baseOrbits\n",
    "dt = system.planet.Porb/baseUpdates\n",
    "baselineTimes, baselineMaps, basettc = system.run_model_tester(T0, t0, t1, dt, verbose=False)\n",
    "\n",
    "if (in_e != 0.):\n",
    "    T0 = baselineMaps[-1]\n",
    "    t0 = baselineTimes[-1]\n",
    "    t1 = t0+system.planet.Porb\n",
    "    dt = (system.planet.Porb)/1000.\n",
    "    baselineTimes, baselineMaps, basettc = system.run_model_tester(T0, t0, t1, dt, verbose=False, intermediates=True)\n",
    "    baselineLightcurve = system.lightcurve(baselineTimes, baselineMaps)\n",
    "else:\n",
    "    baselineLightcurve = system.lightcurve()"
   ]
  },
  {
   "cell_type": "code",
   "execution_count": 4,
   "metadata": {},
   "outputs": [],
   "source": [
    "#========== Tester Module - Temporal ==========\n",
    "\n",
    "planet = ebm.Planet(rad=in_rad*const.R_jup.value, mass=in_mass*const.M_jup.value,\n",
    "                    Porb=in_orb, a=in_a*const.au.value, inc=in_inc, vWind=5e3, e=in_e,nlat=8)\n",
    "star = ebm.Star(teff=s_in_teff, rad=s_in_rad)\n",
    "system = ebm.System(star, planet)\n",
    "\n",
    "nOrbits = 1 #Number of orbits\n",
    "\n",
    "temporalArray = np.zeros(shape=(3,5))\n",
    "temporalArray[0,0] = 1000.\n",
    "temporalArray[0,1] = 500.\n",
    "temporalArray[0,2] = 200.\n",
    "temporalArray[0,3] = 100.\n",
    "temporalArray[0,4] = 75.\n",
    "#print(temporalArray)\n",
    "\n",
    "for i in range(0, 5):\n",
    "    Teq = system.get_teq()\n",
    "    T0 = np.ones_like(system.planet.map.values)*Teq\n",
    "    t0 = 0.\n",
    "    t1 = t0+system.planet.Porb*nOrbits\n",
    "    dt = system.planet.Porb/temporalArray[0,i]\n",
    "    testTimes, testMaps, testTTC = system.run_model_tester(T0, t0, t1, dt, verbose=False)\n",
    "    \n",
    "    if (in_e != 0.):\n",
    "        T0 = testMaps[-1]\n",
    "        t0 = testTimes[-1]\n",
    "        t1 = t0+system.planet.Porb\n",
    "        dt = (system.planet.Porb)/1000.\n",
    "        testTimes, testMaps, testttc = system.run_model_tester(T0, t0, t1, dt, verbose=False, intermediates=True)\n",
    "        testLightcurve = system.lightcurve(testTimes, testMaps)\n",
    "    else:  \n",
    "        testLightcurve = system.lightcurve()\n",
    "    \n",
    "    temporalArray[1,i] = testTTC*1e3\n",
    "    temporalArray[2,i] = (np.amax(np.absolute(baselineLightcurve-testLightcurve)))*1e6\n",
    "    "
   ]
  },
  {
   "cell_type": "code",
   "execution_count": 5,
   "metadata": {
    "scrolled": true
   },
   "outputs": [
    {
     "data": {
      "image/png": "[encoded data removed]",
      "text/plain": [
       "<Figure size 432x288 with 1 Axes>"
      ]
     },
     "metadata": {
      "needs_background": "light"
     },
     "output_type": "display_data"
    },
    {
     "name": "stdout",
     "output_type": "stream",
     "text": [
      "Temporal Resolutions: 790.0, 873.0, 974.0\n"
     ]
    }
   ],
   "source": [
    "plt.ylim(top=30)  # adjust the top leaving bottom unchanged\n",
    "y = temporalArray[2,:]\n",
    "x = temporalArray[0,:]\n",
    "\n",
    "xa = np.linspace(5,1000,100)\n",
    "\n",
    "popt, pcov = curve_fit(lambda fx,a,b: a*fx**-b,  x,  y)\n",
    "power_y = popt[0]*xa**-popt[1]\n",
    "resultsArray[:,2,0] = round((aError/popt[0])**(1/(-popt[1])))\n",
    "resultsArray[:,1,0] = round(((aError*1.1)/popt[0])**(1/(-popt[1])))\n",
    "resultsArray[:,3,0] = round(((aError*0.9)/popt[0])**(1/(-popt[1])))\n",
    "\n",
    "#Catch is implemented later\n",
    "\n",
    "plt.scatter(x, y, label='actual data')\n",
    "plt.plot(xa, power_y, label='power-fit')\n",
    "\n",
    "plt.xlabel(\"Time Steps\")\n",
    "plt.ylabel(\"Max Error (ppm)\")\n",
    "\n",
    "plt.grid(True, linestyle='-.')\n",
    "plt.axhline(y=aError, color='g', linestyle='--')\n",
    "plt.axhline(y=aError*1.1, color='b', linestyle='--')\n",
    "plt.axhline(y=aError*0.9, color='b', linestyle='--')\n",
    "\n",
    "plt.axvline(x=resultsArray[0,1,0], color='#fe7335', linestyle='--')\n",
    "plt.axvline(x=resultsArray[0,2,0], color='r', linestyle='--')\n",
    "plt.axvline(x=resultsArray[0,3,0], color='#fe7335', linestyle='--')\n",
    "plt.show()\n",
    "\n",
    "print(\"Temporal Resolutions: \"+str(resultsArray[0,1,0])+\", \"+str(resultsArray[0,2,0])+\", \"+str(resultsArray[0,3,0]))"
   ]
  },
  {
   "cell_type": "code",
   "execution_count": 6,
   "metadata": {},
   "outputs": [],
   "source": [
    "#==========High Spacial Res (Baseline) Creation==========\n",
    "baseUpdates = 500. #Amount of timesteps in baseline\n",
    "baseOrbits = 1 #Amount of orbits in baseline#\n",
    "\n",
    "planet = ebm.Planet(rad=in_rad*const.R_jup.value, mass=in_mass*const.M_jup.value,\n",
    "                    Porb=in_orb, a=in_a*const.au.value, inc=in_inc, vWind=5e3, nlat = 128, e=in_e)\n",
    "star = ebm.Star(teff=s_in_teff, rad=s_in_rad)\n",
    "system = ebm.System(star, planet)\n",
    "\n",
    "Teq = system.get_teq()\n",
    "T0 = np.ones_like(system.planet.map.values)*Teq\n",
    "t0 = 0.\n",
    "t1 = t0+system.planet.Porb*baseOrbits\n",
    "dt = system.planet.Porb/baseUpdates\n",
    "baselineTimes, baselineMaps, basettc = system.run_model_tester(T0, t0, t1, dt, verbose=False)\n",
    "\n",
    "if (in_e != 0.):\n",
    "    T0 = baselineMaps[-1]\n",
    "    t0 = baselineTimes[-1]\n",
    "    t1 = t0+system.planet.Porb\n",
    "    dt = (system.planet.Porb)/1000.\n",
    "    baselineTimes, baselineMaps, basettc = system.run_model_tester(T0, t0, t1, dt, verbose=False, intermediates=True)\n",
    "    baselineLightcurve = system.lightcurve(baselineTimes, baselineMaps)\n",
    "else:\n",
    "    baselineLightcurve = system.lightcurve()"
   ]
  },
  {
   "cell_type": "code",
   "execution_count": 7,
   "metadata": {},
   "outputs": [
    {
     "name": "stdout",
     "output_type": "stream",
     "text": [
      "[[ 64.          32.          16.           8.           4.        ]\n",
      " [720.59512138 221.47512436 141.56389236 116.314888   102.43201256]\n",
      " [  2.72232046   7.63238293  16.8722135   82.32847022 415.29626163]]\n"
     ]
    }
   ],
   "source": [
    "#========== Tester Module - Spacial ==========\n",
    "\n",
    "nOrbits = 1 #Number of orbits\n",
    "nUpdates = 500.\n",
    "\n",
    "spacialArray = np.zeros(shape=(3,5))\n",
    "spacialArray[0,0] = 64.\n",
    "spacialArray[0,1] = 32.\n",
    "spacialArray[0,2] = 16.\n",
    "spacialArray[0,3] = 8.\n",
    "spacialArray[0,4] = 4.\n",
    "\n",
    "for i in range(0, 5):\n",
    "    planet = ebm.Planet(rad=in_rad*const.R_jup.value, mass=in_mass*const.M_jup.value,\n",
    "                    Porb=in_orb, a=in_a*const.au.value, inc=in_inc, vWind=5e3, nlat = spacialArray[0,i], e=in_e)\n",
    "    star = ebm.Star(teff=s_in_teff, rad=s_in_rad)\n",
    "    system = ebm.System(star, planet)\n",
    "    \n",
    "    Teq = system.get_teq()\n",
    "    T0 = np.ones_like(system.planet.map.values)*Teq\n",
    "    t0 = 0.\n",
    "    t1 = t0+system.planet.Porb*nOrbits\n",
    "    dt = system.planet.Porb/nUpdates\n",
    "    testTimes, testMaps, testTTC = system.run_model_tester(T0, t0, t1, dt, verbose=False)\n",
    "    \n",
    "    if (in_e != 0.):\n",
    "        T0 = testMaps[-1]\n",
    "        t0 = testTimes[-1]\n",
    "        t1 = t0+system.planet.Porb\n",
    "        dt = (system.planet.Porb)/1000.\n",
    "        testTimes, testMaps, testttc = system.run_model_tester(T0, t0, t1, dt, verbose=False, intermediates=True)\n",
    "        testLightcurve = system.lightcurve(testTimes, testMaps)\n",
    "    else:  \n",
    "        testLightcurve = system.lightcurve()\n",
    "    \n",
    "    spacialArray[1,i] = testTTC*1e3\n",
    "    spacialArray[2,i] = (np.amax(np.absolute(baselineLightcurve-testLightcurve)))*1e6\n",
    "print(spacialArray)"
   ]
  },
  {
   "cell_type": "code",
   "execution_count": 8,
   "metadata": {},
   "outputs": [
    {
     "data": {
      "image/png": "[encoded data removed]",
      "text/plain": [
       "<Figure size 432x288 with 1 Axes>"
      ]
     },
     "metadata": {
      "needs_background": "light"
     },
     "output_type": "display_data"
    },
    {
     "name": "stdout",
     "output_type": "stream",
     "text": [
      "Spacial Resolutions: 7.0, 7.0, 8.0\n"
     ]
    }
   ],
   "source": [
    "plt.ylim(top=100)# adjust the top leaving bottom unchanged\n",
    "y = spacialArray[2,:]\n",
    "x = spacialArray[0,:]\n",
    "\n",
    "xa = np.linspace(1e-6,64,100)\n",
    "popt, pcov = curve_fit(lambda fx,a,b: a*fx**-b,  x,  y)\n",
    "power_y = popt[0]*xa**-popt[1]\n",
    "resultsArray[:,0,2] = round((aError/popt[0])**(1/(-popt[1])))\n",
    "resultsArray[:,0,1] = round(((aError*1.1)/popt[0])**(1/(-popt[1])))\n",
    "resultsArray[:,0,3] = round(((aError*0.9)/popt[0])**(1/(-popt[1])))\n",
    "\n",
    "for i in range (0,3):\n",
    "    if (resultsArray[0,0,i+1] <=4):\n",
    "        resultsArray[:,0,i+1] = 4\n",
    "\n",
    "plt.scatter(x, y, label='actual data')\n",
    "plt.plot(xa, power_y, label='power-fit')\n",
    "plt.grid(True, linestyle='-.')\n",
    "\n",
    "plt.axhline(y=aError, color='g', linestyle='--')\n",
    "plt.axhline(y=aError*1.1, color='b', linestyle='--')\n",
    "plt.axhline(y=aError*0.9, color='b', linestyle='--')\n",
    "\n",
    "plt.axvline(x=resultsArray[0,0,1], color='#fe7335', linestyle='--')\n",
    "plt.axvline(x=resultsArray[0,0,2], color='r', linestyle='--')\n",
    "plt.axvline(x=resultsArray[0,0,3], color='#fe7335', linestyle='--')\n",
    "plt.show()\n",
    "\n",
    "print(\"Spacial Resolutions: \"+str(resultsArray[0,0,1])+\", \"+str(resultsArray[0,0,2])+\", \"+str(resultsArray[0,0,3]))"
   ]
  },
  {
   "cell_type": "code",
   "execution_count": 9,
   "metadata": {},
   "outputs": [],
   "source": [
    "#==========High Spacial Res (Baseline) Creation==========\n",
    "baseUpdates = 10000. #Amount of timesteps in baseline\n",
    "baseOrbits = 3 #Amount of orbits in baseline\n",
    "\n",
    "planet = ebm.Planet(rad=in_rad*const.R_jup.value, mass=in_mass*const.M_jup.value,\n",
    "                    Porb=in_orb, a=in_a*const.au.value, inc=in_inc, vWind=5e3, nlat = 128, e=in_e)\n",
    "star = ebm.Star(teff=s_in_teff, rad=s_in_rad)\n",
    "system = ebm.System(star, planet)\n",
    "\n",
    "Teq = system.get_teq()\n",
    "T0 = np.ones_like(system.planet.map.values)*Teq\n",
    "t0 = 0.\n",
    "t1 = t0+system.planet.Porb*baseOrbits\n",
    "dt = system.planet.Porb/baseUpdates\n",
    "baselineTimes, baselineMaps, basettc = system.run_model_tester(T0, t0, t1, dt, verbose=False)\n",
    "\n",
    "if (in_e != 0.):\n",
    "    T0 = baselineMaps[-1]\n",
    "    t0 = baselineTimes[-1]\n",
    "    t1 = t0+system.planet.Porb\n",
    "    dt = (system.planet.Porb)/1000.\n",
    "    baselineTimes, baselineMaps, basettc = system.run_model_tester(T0, t0, t1, dt, verbose=False, intermediates=True)\n",
    "    baselineLightcurve = system.lightcurve(baselineTimes, baselineMaps)\n",
    "else:\n",
    "    baselineLightcurve = system.lightcurve()"
   ]
  },
  {
   "cell_type": "code",
   "execution_count": 10,
   "metadata": {},
   "outputs": [
    {
     "name": "stdout",
     "output_type": "stream",
     "text": [
      "[[[0.00000000e+00 7.00000000e+00 7.00000000e+00 8.00000000e+00]\n",
      "  [7.90000000e+02 2.43690968e-01 2.38017082e-01 1.82518403e-01]\n",
      "  [8.73000000e+02 2.59599209e-01 2.25306352e-01 2.05013355e-01]\n",
      "  [9.74000000e+02 2.34397332e-01 2.28683710e-01 2.26717790e-01]]\n",
      "\n",
      " [[0.00000000e+00 7.00000000e+00 7.00000000e+00 8.00000000e+00]\n",
      "  [7.90000000e+02 1.97923920e+02 1.97923920e+02 1.68092553e+02]\n",
      "  [8.73000000e+02 1.93862773e+02 1.93862773e+02 1.59336444e+02]\n",
      "  [9.74000000e+02 1.89857747e+02 1.89857747e+02 1.50643081e+02]]]\n"
     ]
    }
   ],
   "source": [
    "dtMax = 0.5/system.planet.wind_dlon/24/3600\n",
    "dtMax = np.floor(dtMax*1e5)/1e5\n",
    "timestepMin = in_orb/dtMax\n",
    "for i in range (0,3):\n",
    "    if (resultsArray[0,i+1,0] <=timestepMin):\n",
    "        resultsArray[:,i+1,0] = np.ceil(timestepMin)\n",
    "\n",
    "for i in range(0,3):\n",
    "    planet = ebm.Planet(rad=in_rad*const.R_jup.value, mass=in_mass*const.M_jup.value,\n",
    "                    Porb=in_orb, a=in_a*const.au.value, inc=in_inc, vWind=5e3, e=in_e,\n",
    "                    nlat=resultsArray[0,0,(i+1)])\n",
    "    star = ebm.Star(teff=s_in_teff, rad=s_in_rad)\n",
    "    system = ebm.System(star, planet)\n",
    "    for j in range(0,3):\n",
    "        for k in range(0,3):\n",
    "            Teq = system.get_teq()\n",
    "            T0 = np.ones_like(system.planet.map.values)*Teq\n",
    "            t0 = 0.\n",
    "            t1 = t0+system.planet.Porb*1\n",
    "            dt = system.planet.Porb/resultsArray[0,(j+1),0]\n",
    "            testTimes, testMaps, testTTC = system.run_model_tester(T0, t0, t1, dt, verbose=False)\n",
    "            \n",
    "            if (in_e != 0.):\n",
    "                T0 = testMaps[-1]\n",
    "                t0 = testTimes[-1]\n",
    "                t1 = t0+system.planet.Porb\n",
    "                dt = (system.planet.Porb)/1000.\n",
    "                testTimes, testMaps, testttc = system.run_model_tester(T0, t0, t1, dt, verbose=False, intermediates=True)\n",
    "                testLightcurve = system.lightcurve(testTimes, testMaps)\n",
    "            else:  \n",
    "                testLightcurve = system.lightcurve()\n",
    "                \n",
    "            resultsArray[0,(j+1),(i+1)] += testTTC\n",
    "            resultsArray[1,(j+1),(i+1)] += (np.amax(np.absolute(baselineLightcurve-testLightcurve)))*1e6\n",
    "        resultsArray[0,(j+1),(i+1)] = resultsArray[0,(j+1),(i+1)]/3\n",
    "        resultsArray[1,(j+1),(i+1)] = resultsArray[1,(j+1),(i+1)]/3\n",
    "print(resultsArray)"
   ]
  },
  {
   "cell_type": "code",
   "execution_count": 11,
   "metadata": {},
   "outputs": [
    {
     "name": "stdout",
     "output_type": "stream",
     "text": [
      "Lowest i: 3, Lowest j: 1\n",
      "1\n",
      "Expected accuracy loss 168.093 ppm\n",
      "Expected time to complete 50.7 hours\n"
     ]
    }
   ],
   "source": [
    "lowi = None\n",
    "lowj = None\n",
    "lowestNumber = 1e20\n",
    "for i in range(0,3):\n",
    "    for j in range(0,3):\n",
    "        if ((resultsArray[1,(j+1),(i+1)]<=aError) and (resultsArray[0,(j+1),(i+1)]<lowestNumber)):\n",
    "            lowestNumber=(resultsArray[0,(j+1),(i+1)])\n",
    "            lowi=i+1\n",
    "            lowj=j+1\n",
    "            \n",
    "if (lowi == None):\n",
    "    for i in range(0,3):\n",
    "        for j in range(0,3):\n",
    "            if ((resultsArray[0,(j+1),(i+1)]<lowestNumber)):\n",
    "                lowestNumber=(resultsArray[0,(j+1),(i+1)])\n",
    "                lowi=i+1\n",
    "                lowj=j+1\n",
    "    \n",
    "#print(lowestNumber)\n",
    "print(\"Lowest i: \" + str(lowi)+\", Lowest j: \" + str(lowj))\n",
    "print(lowj)\n",
    "print(\"Expected accuracy loss \" + str(round(resultsArray[1,lowj,lowi],3)) + \" ppm\")\n",
    "print(\"Expected time to complete \" + str(round(resultsArray[0,lowj,lowi]*1e6/3600,3)) + \" hours\")"
   ]
  },
  {
   "cell_type": "code",
   "execution_count": 12,
   "metadata": {},
   "outputs": [
    {
     "name": "stdout",
     "output_type": "stream",
     "text": [
      "[[[0.00000000e+00 7.00000000e+00 7.00000000e+00 8.00000000e+00]\n",
      "  [7.90000000e+02 2.43690968e-01 2.38017082e-01 1.82518403e-01]\n",
      "  [8.73000000e+02 2.59599209e-01 2.25306352e-01 2.05013355e-01]\n",
      "  [9.74000000e+02 2.34397332e-01 2.28683710e-01 2.26717790e-01]]\n",
      "\n",
      " [[0.00000000e+00 7.00000000e+00 7.00000000e+00 8.00000000e+00]\n",
      "  [7.90000000e+02 1.97923920e+02 1.97923920e+02 1.68092553e+02]\n",
      "  [8.73000000e+02 1.93862773e+02 1.93862773e+02 1.59336444e+02]\n",
      "  [9.74000000e+02 1.89857747e+02 1.89857747e+02 1.50643081e+02]]]\n"
     ]
    }
   ],
   "source": [
    "print(resultsArray)"
   ]
  },
  {
   "cell_type": "code",
   "execution_count": 13,
   "metadata": {},
   "outputs": [
    {
     "data": {
      "text/plain": [
       "283.4857922077922"
      ]
     },
     "execution_count": 13,
     "metadata": {},
     "output_type": "execute_result"
    }
   ],
   "source": [
    "in_orb/dtMax"
   ]
  },
  {
   "cell_type": "code",
   "execution_count": null,
   "metadata": {},
   "outputs": [],
   "source": []
  }
 ],
 "metadata": {
  "kernelspec": {
   "display_name": "Python 3",
   "language": "python",
   "name": "python3"
  },
  "language_info": {
   "codemirror_mode": {
    "name": "ipython",
    "version": 3
   },
   "file_extension": ".py",
   "mimetype": "text/x-python",
   "name": "python",
   "nbconvert_exporter": "python",
   "pygments_lexer": "ipython3",
   "version": "3.7.1"
  }
 },
 "nbformat": 4,
 "nbformat_minor": 2
}
